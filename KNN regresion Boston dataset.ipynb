{
 "cells": [
  {
   "cell_type": "code",
   "execution_count": 4,
   "metadata": {},
   "outputs": [],
   "source": [
    "%matplotlib inline\n",
    "\n",
    "import numpy as np\n",
    "import pandas as pd\n",
    "import scipy.spatial\n",
    "from matplotlib import pyplot as plt\n",
    "from sklearn import datasets"
   ]
  },
  {
   "cell_type": "code",
   "execution_count": 5,
   "metadata": {},
   "outputs": [],
   "source": [
    "class MyKNNRegression:\n",
    "    def __init__(self, k):\n",
    "        self.k = k\n",
    "        self.train_X = None\n",
    "        self.train_y = None\n",
    "    \n",
    "    def fit(self, train_X, train_y):\n",
    "        self.train_X = train_X\n",
    "        self.train_y = train_y\n",
    "    \n",
    "    def predict(self, X):\n",
    "\n",
    "        difference = np.expand_dims(X, axis=1) - np.expand_dims(self.train_X, axis=0)     \n",
    "        distance = np.linalg.norm(difference, axis=-1)\n",
    "        k_nearest = np.argsort(distance, kind = 'heapsort')[:, :self.k]\n",
    "        distance_to_nearest = self.train_y[k_nearest]\n",
    "        distx_sorted = np.sort(distance)[:, :self.k]\n",
    "        sum_kX = np.sum(distx_sorted, axis = 1)\n",
    "        matrix_y = distance_to_nearest * distx_sorted\n",
    "        prds = np.mean(matrix_y, axis=-1)\n",
    "        preds = (prds * self.k) / sum_kX\n",
    "        return preds"
   ]
  },
  {
   "cell_type": "code",
   "execution_count": 6,
   "metadata": {},
   "outputs": [],
   "source": [
    "boston = datasets.load_boston()\n",
    "housing_df = pd.DataFrame(\n",
    "    data=np.c_[boston['data'], boston['target']],\n",
    "    columns=list(boston['feature_names']) + ['target']\n",
    ")\n",
    "housing_train = housing_df.iloc[:-200].sort_values('LSTAT')\n",
    "housing_test = housing_df.iloc[-200:].sort_values('LSTAT')\n",
    "\n",
    "housing_train_X = housing_train.iloc[:, :-1]\n",
    "housing_train_y = housing_train.iloc[:, -1]\n",
    "\n",
    "housing_test_X = housing_test.iloc[:, :-1]\n",
    "housing_test_y = housing_test.iloc[:, -1]"
   ]
  },
  {
   "cell_type": "code",
   "execution_count": 7,
   "metadata": {},
   "outputs": [],
   "source": [
    "knn_regressor = MyKNNRegression(15)\n",
    "knn_regressor.fit(housing_train_X.iloc[:, -1:].to_numpy(), housing_train_y.to_numpy())"
   ]
  },
  {
   "cell_type": "code",
   "execution_count": 8,
   "metadata": {},
   "outputs": [],
   "source": [
    "preds = knn_regressor.predict(housing_test_X.iloc[:, -1:].to_numpy())"
   ]
  },
  {
   "cell_type": "code",
   "execution_count": 9,
   "metadata": {},
   "outputs": [
    {
     "data": {
      "image/png": "[encoded data removed]",
      "text/plain": [
       "<Figure size 432x288 with 1 Axes>"
      ]
     },
     "metadata": {
      "needs_background": "light"
     },
     "output_type": "display_data"
    }
   ],
   "source": [
    "plt.plot(housing_test_X.iloc[:, -1], preds, color='red', label='predictions')\n",
    "plt.scatter(housing_test_X.iloc[:, -1], housing_test_y, color='blue', label='test')\n",
    "plt.xlabel('LSTAT')\n",
    "plt.ylabel('target')\n",
    "plt.legend()\n",
    "plt.show()"
   ]
  }
 ],
 "metadata": {
  "kernelspec": {
   "display_name": "Python 3",
   "language": "python",
   "name": "python3"
  },
  "language_info": {
   "codemirror_mode": {
    "name": "ipython",
    "version": 3
   },
   "file_extension": ".py",
   "mimetype": "text/x-python",
   "name": "python",
   "nbconvert_exporter": "python",
   "pygments_lexer": "ipython3",
   "version": "3.7.3"
  }
 },
 "nbformat": 4,
 "nbformat_minor": 2
}
